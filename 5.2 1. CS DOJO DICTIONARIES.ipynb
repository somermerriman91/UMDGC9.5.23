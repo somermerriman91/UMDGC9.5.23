{
 "cells": [
  {
   "cell_type": "code",
   "execution_count": 1,
   "id": "d1370d07",
   "metadata": {},
   "outputs": [],
   "source": [
    "d = dict() \n",
    "# can also use d = {\"George: 24, \"Tom\": 32}"
   ]
  },
  {
   "cell_type": "code",
   "execution_count": 2,
   "id": "96a50c98",
   "metadata": {},
   "outputs": [],
   "source": [
    "d[\"George\"] = 24"
   ]
  },
  {
   "cell_type": "code",
   "execution_count": 3,
   "id": "3e7aaf3f",
   "metadata": {},
   "outputs": [],
   "source": [
    "d[\"Tom\"] = 32\n",
    "d[\"Jenny\"] = 16"
   ]
  },
  {
   "cell_type": "code",
   "execution_count": 4,
   "id": "1324d83f",
   "metadata": {},
   "outputs": [
    {
     "name": "stdout",
     "output_type": "stream",
     "text": [
      "24\n"
     ]
    }
   ],
   "source": [
    "print(d[\"George\"])"
   ]
  },
  {
   "cell_type": "code",
   "execution_count": 5,
   "id": "d2e1c188",
   "metadata": {},
   "outputs": [
    {
     "ename": "KeyError",
     "evalue": "'Alice'",
     "output_type": "error",
     "traceback": [
      "\u001b[0;31m---------------------------------------------------------------------------\u001b[0m",
      "\u001b[0;31mKeyError\u001b[0m                                  Traceback (most recent call last)",
      "Cell \u001b[0;32mIn[5], line 1\u001b[0m\n\u001b[0;32m----> 1\u001b[0m \u001b[38;5;28mprint\u001b[39m(d[\u001b[38;5;124m\"\u001b[39m\u001b[38;5;124mAlice\u001b[39m\u001b[38;5;124m\"\u001b[39m])\n",
      "\u001b[0;31mKeyError\u001b[0m: 'Alice'"
     ]
    }
   ],
   "source": [
    "print(d[\"Alice\"])\n",
    "# Key \"Alice\" doesn't exist yet"
   ]
  },
  {
   "cell_type": "code",
   "execution_count": 6,
   "id": "bbcb3b4f",
   "metadata": {},
   "outputs": [],
   "source": [
    "d[\"Jenny\"] = 20\n",
    "# to append key values\n",
    "# keys can be strings or numbers, can be mixed unlike lists\n",
    "d[10] = 100"
   ]
  },
  {
   "cell_type": "code",
   "execution_count": 9,
   "id": "0787bf9b",
   "metadata": {},
   "outputs": [
    {
     "name": "stdout",
     "output_type": "stream",
     "text": [
      "key:\n",
      "George\n",
      "value:\n",
      "24\n",
      "\n",
      "key:\n",
      "Tom\n",
      "value:\n",
      "32\n",
      "\n",
      "key:\n",
      "Jenny\n",
      "value:\n",
      "20\n",
      "\n",
      "key:\n",
      "10\n",
      "value:\n",
      "100\n",
      "\n"
     ]
    }
   ],
   "source": [
    "# how to iterate over key-value pairs\n",
    "for key, value in d.items():\n",
    "    print(\"key:\")\n",
    "    print(key)\n",
    "    print(\"value:\")\n",
    "    print(value)\n",
    "    print(\"\")"
   ]
  },
  {
   "cell_type": "code",
   "execution_count": null,
   "id": "4b6b0ecc",
   "metadata": {},
   "outputs": [],
   "source": []
  }
 ],
 "metadata": {
  "kernelspec": {
   "display_name": "Python 3 (ipykernel)",
   "language": "python",
   "name": "python3"
  },
  "language_info": {
   "codemirror_mode": {
    "name": "ipython",
    "version": 3
   },
   "file_extension": ".py",
   "mimetype": "text/x-python",
   "name": "python",
   "nbconvert_exporter": "python",
   "pygments_lexer": "ipython3",
   "version": "3.11.4"
  }
 },
 "nbformat": 4,
 "nbformat_minor": 5
}
