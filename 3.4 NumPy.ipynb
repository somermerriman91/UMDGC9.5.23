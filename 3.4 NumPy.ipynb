{
 "cells": [
  {
   "cell_type": "code",
   "execution_count": 1,
   "id": "89eb7e7d",
   "metadata": {},
   "outputs": [
    {
     "name": "stdout",
     "output_type": "stream",
     "text": [
      "Requirement already satisfied: numpy in /Users/somermerriman/anaconda3/lib/python3.11/site-packages (1.24.3)\n",
      "Note: you may need to restart the kernel to use updated packages.\n"
     ]
    }
   ],
   "source": [
    "pip install numpy"
   ]
  },
  {
   "cell_type": "code",
   "execution_count": 2,
   "id": "f0a09d5b",
   "metadata": {},
   "outputs": [],
   "source": [
    "import numpy as np"
   ]
  },
  {
   "cell_type": "code",
   "execution_count": 6,
   "id": "9df19a29",
   "metadata": {},
   "outputs": [],
   "source": [
    "# 1. Create\n",
    "[[1,2,3,4], [1,2,2,2]]\n",
    "data = np.random.rand(2,3,4)\n",
    "zeros = np.zeros((2,2,2))\n",
    "full = np.full((2,2,2), 7)\n",
    "ones = np.ones((2,2,2))"
   ]
  },
  {
   "cell_type": "code",
   "execution_count": 4,
   "id": "3ff74441",
   "metadata": {},
   "outputs": [
    {
     "data": {
      "text/plain": [
       "array([[[0.75595028, 0.73350628, 0.2873675 , 0.40537197],\n",
       "        [0.81685647, 0.77691409, 0.69302066, 0.23186518],\n",
       "        [0.01970868, 0.35599012, 0.70487906, 0.3548982 ]],\n",
       "\n",
       "       [[0.36861351, 0.76501391, 0.38050099, 0.41073845],\n",
       "        [0.00113145, 0.94911985, 0.36506789, 0.9784101 ],\n",
       "        [0.52731651, 0.58504404, 0.8571134 , 0.79616947]]])"
      ]
     },
     "execution_count": 4,
     "metadata": {},
     "output_type": "execute_result"
    }
   ],
   "source": [
    "data"
   ]
  },
  {
   "cell_type": "code",
   "execution_count": 7,
   "id": "d3f00e46",
   "metadata": {},
   "outputs": [
    {
     "data": {
      "text/plain": [
       "array([[[0., 0.],\n",
       "        [0., 0.]],\n",
       "\n",
       "       [[0., 0.],\n",
       "        [0., 0.]]])"
      ]
     },
     "execution_count": 7,
     "metadata": {},
     "output_type": "execute_result"
    }
   ],
   "source": [
    "zeros"
   ]
  },
  {
   "cell_type": "code",
   "execution_count": 8,
   "id": "f9436114",
   "metadata": {},
   "outputs": [
    {
     "data": {
      "text/plain": [
       "array([[[7, 7],\n",
       "        [7, 7]],\n",
       "\n",
       "       [[7, 7],\n",
       "        [7, 7]]])"
      ]
     },
     "execution_count": 8,
     "metadata": {},
     "output_type": "execute_result"
    }
   ],
   "source": [
    "full"
   ]
  },
  {
   "cell_type": "code",
   "execution_count": 9,
   "id": "2e3a4768",
   "metadata": {},
   "outputs": [
    {
     "data": {
      "text/plain": [
       "array([[[1., 1.],\n",
       "        [1., 1.]],\n",
       "\n",
       "       [[1., 1.],\n",
       "        [1., 1.]]])"
      ]
     },
     "execution_count": 9,
     "metadata": {},
     "output_type": "execute_result"
    }
   ],
   "source": [
    "ones"
   ]
  },
  {
   "cell_type": "code",
   "execution_count": 12,
   "id": "05f47d0c",
   "metadata": {},
   "outputs": [
    {
     "data": {
      "text/plain": [
       "numpy.ndarray"
      ]
     },
     "execution_count": 12,
     "metadata": {},
     "output_type": "execute_result"
    }
   ],
   "source": [
    "arr = np.array(([1,2,3,4],[1,2,3,4]))\n",
    "type(arr)"
   ]
  },
  {
   "cell_type": "code",
   "execution_count": 13,
   "id": "a5e1a31b",
   "metadata": {},
   "outputs": [],
   "source": [
    "# attributes\n",
    "shape = data.shape\n",
    "size = data.size\n",
    "types = data.dtype"
   ]
  },
  {
   "cell_type": "code",
   "execution_count": 16,
   "id": "3b175418",
   "metadata": {},
   "outputs": [
    {
     "data": {
      "text/plain": [
       "dtype('float64')"
      ]
     },
     "execution_count": 16,
     "metadata": {},
     "output_type": "execute_result"
    }
   ],
   "source": [
    "types"
   ]
  },
  {
   "cell_type": "code",
   "execution_count": 17,
   "id": "1a32957b",
   "metadata": {},
   "outputs": [],
   "source": [
    "# Slicing\n",
    "arr = data[0]\n",
    "slicer = data[0:2]\n",
    "reverse = data[-1]\n",
    "singlevel = data[0][0][0]\n",
    "# single value retrieval"
   ]
  },
  {
   "cell_type": "code",
   "execution_count": 18,
   "id": "6087b65e",
   "metadata": {},
   "outputs": [
    {
     "data": {
      "text/plain": [
       "array([[0.64649603, 0.76270097, 0.13518244, 0.03340586],\n",
       "       [0.19006285, 0.13776639, 0.18744359, 0.78661277],\n",
       "       [0.31739924, 0.10160074, 0.38835621, 0.76404917]])"
      ]
     },
     "execution_count": 18,
     "metadata": {},
     "output_type": "execute_result"
    }
   ],
   "source": [
    "arr"
   ]
  },
  {
   "cell_type": "code",
   "execution_count": 19,
   "id": "210070ba",
   "metadata": {},
   "outputs": [
    {
     "data": {
      "text/plain": [
       "0.6464960333662155"
      ]
     },
     "execution_count": 19,
     "metadata": {},
     "output_type": "execute_result"
    }
   ],
   "source": [
    "singlevel"
   ]
  },
  {
   "cell_type": "code",
   "execution_count": 20,
   "id": "74f6f8d7",
   "metadata": {},
   "outputs": [],
   "source": [
    "list1 = np.random.rand(10)\n",
    "list2 = np.random.rand(10)"
   ]
  },
  {
   "cell_type": "code",
   "execution_count": 21,
   "id": "7df2ca5f",
   "metadata": {},
   "outputs": [
    {
     "data": {
      "text/plain": [
       "array([0.08160637, 0.14451384, 0.21652088, 0.22140048, 0.4969074 ,\n",
       "       0.27092724, 0.17832729, 0.83785946, 0.25927989, 0.20780613])"
      ]
     },
     "execution_count": 21,
     "metadata": {},
     "output_type": "execute_result"
    }
   ],
   "source": [
    "list2"
   ]
  },
  {
   "cell_type": "code",
   "execution_count": 22,
   "id": "2e49330b",
   "metadata": {},
   "outputs": [],
   "source": [
    "# Basic math\n",
    "add = np.add(list1, list2)\n",
    "sub = np.subtract(list1, list2)\n",
    "div = np.divide(list1, list2)\n",
    "mult = np.multiply(list1, list2)\n",
    "dot = np.dot(list1, list2)\n",
    "# multiplies every item together"
   ]
  },
  {
   "cell_type": "code",
   "execution_count": 23,
   "id": "4e392cf8",
   "metadata": {},
   "outputs": [],
   "source": [
    "# Stat Functions - SAPLEMM\n",
    "sqrt = np.sqrt(25)\n",
    "ab = np.abs(-2)\n",
    "power = np.power(2,7)\n",
    "log = np.log(25)\n",
    "exp = np.exp([2,3])\n",
    "mins = np.min(list1)\n",
    "maxs = np.max(list1)"
   ]
  },
  {
   "cell_type": "code",
   "execution_count": 24,
   "id": "be850714",
   "metadata": {},
   "outputs": [],
   "source": [
    "# ab = absolute values\n",
    "# log = log function\n",
    "# exp = exponential\n",
    "# In summary, numpy.power is used for element-wise exponentiation with different exponents, while numpy.exp calculates the exponential function for each element in the input array"
   ]
  },
  {
   "cell_type": "code",
   "execution_count": 25,
   "id": "24c73a5e",
   "metadata": {},
   "outputs": [],
   "source": [
    "data.sort()"
   ]
  },
  {
   "cell_type": "code",
   "execution_count": 26,
   "id": "61e42aaa",
   "metadata": {},
   "outputs": [
    {
     "name": "stdout",
     "output_type": "stream",
     "text": [
      "(2, 3, 4)\n"
     ]
    }
   ],
   "source": [
    "print(data.shape)"
   ]
  },
  {
   "cell_type": "code",
   "execution_count": 27,
   "id": "2335c063",
   "metadata": {},
   "outputs": [],
   "source": [
    "# I don't understand reshape!!!"
   ]
  },
  {
   "cell_type": "code",
   "execution_count": 28,
   "id": "69063c4a",
   "metadata": {},
   "outputs": [],
   "source": [
    "zeroes = np.insert(zeros, 2, 1)\n",
    "# array name, position, value to insert"
   ]
  },
  {
   "cell_type": "code",
   "execution_count": 29,
   "id": "fe5d8fc8",
   "metadata": {},
   "outputs": [
    {
     "data": {
      "text/plain": [
       "array([[[0.03340586, 0.13518244, 0.64649603, 0.76270097],\n",
       "        [0.13776639, 0.18744359, 0.19006285, 0.78661277],\n",
       "        [0.10160074, 0.31739924, 0.38835621, 0.76404917]],\n",
       "\n",
       "       [[0.49034898, 0.55590788, 0.66548116, 0.76531626],\n",
       "        [0.10416515, 0.58613727, 0.75561963, 0.93362362],\n",
       "        [0.04032466, 0.64625026, 0.66354891, 0.89144282]]])"
      ]
     },
     "execution_count": 29,
     "metadata": {},
     "output_type": "execute_result"
    }
   ],
   "source": [
    "data"
   ]
  },
  {
   "cell_type": "code",
   "execution_count": 30,
   "id": "6fd34178",
   "metadata": {},
   "outputs": [
    {
     "data": {
      "text/plain": [
       "array([[[0.13776639, 0.18744359, 0.19006285, 0.78661277],\n",
       "        [0.10160074, 0.31739924, 0.38835621, 0.76404917]],\n",
       "\n",
       "       [[0.10416515, 0.58613727, 0.75561963, 0.93362362],\n",
       "        [0.04032466, 0.64625026, 0.66354891, 0.89144282]]])"
      ]
     },
     "execution_count": 30,
     "metadata": {},
     "output_type": "execute_result"
    }
   ],
   "source": [
    "np.delete(data, 0, axis=1)"
   ]
  },
  {
   "cell_type": "code",
   "execution_count": 31,
   "id": "6fd41fdb",
   "metadata": {},
   "outputs": [],
   "source": [
    "# to save arrays"
   ]
  },
  {
   "cell_type": "code",
   "execution_count": 32,
   "id": "e9de4f70",
   "metadata": {},
   "outputs": [],
   "source": [
    "np.save(\"new array\", data)"
   ]
  },
  {
   "cell_type": "code",
   "execution_count": 33,
   "id": "03eaa476",
   "metadata": {},
   "outputs": [
    {
     "data": {
      "text/plain": [
       "array([[[0.03340586, 0.13518244, 0.64649603, 0.76270097],\n",
       "        [0.13776639, 0.18744359, 0.19006285, 0.78661277],\n",
       "        [0.10160074, 0.31739924, 0.38835621, 0.76404917]],\n",
       "\n",
       "       [[0.49034898, 0.55590788, 0.66548116, 0.76531626],\n",
       "        [0.10416515, 0.58613727, 0.75561963, 0.93362362],\n",
       "        [0.04032466, 0.64625026, 0.66354891, 0.89144282]]])"
      ]
     },
     "execution_count": 33,
     "metadata": {},
     "output_type": "execute_result"
    }
   ],
   "source": [
    "test = np.load(\"new array.npy\")\n",
    "test"
   ]
  },
  {
   "cell_type": "code",
   "execution_count": 34,
   "id": "cb7e09f4",
   "metadata": {},
   "outputs": [],
   "source": [
    "# 3.4 4. Multidimensional Arrays"
   ]
  },
  {
   "cell_type": "code",
   "execution_count": 35,
   "id": "ef2c5690",
   "metadata": {},
   "outputs": [
    {
     "name": "stdout",
     "output_type": "stream",
     "text": [
      "[1 2 3 4 5]\n"
     ]
    }
   ],
   "source": [
    "# Creating a simple array\n",
    "array = np.array([1, 2, 3, 4, 5])\n",
    "print(array)"
   ]
  },
  {
   "cell_type": "code",
   "execution_count": 36,
   "id": "5a661d74",
   "metadata": {},
   "outputs": [],
   "source": [
    "# arrays do not have commas like lists do, once created\n",
    "# ^^ this is a 1-dimensional array"
   ]
  },
  {
   "cell_type": "code",
   "execution_count": 37,
   "id": "f30eb9a6",
   "metadata": {},
   "outputs": [],
   "source": [
    "# Different Size Dimensions"
   ]
  },
  {
   "cell_type": "code",
   "execution_count": 38,
   "id": "b7617071",
   "metadata": {},
   "outputs": [],
   "source": [
    "# Zero Dimensional Array\n",
    "zero_dim = np.array(382759138)"
   ]
  },
  {
   "cell_type": "code",
   "execution_count": 39,
   "id": "9d6c3430",
   "metadata": {},
   "outputs": [
    {
     "name": "stdout",
     "output_type": "stream",
     "text": [
      "382759138\n"
     ]
    }
   ],
   "source": [
    "print(zero_dim)"
   ]
  },
  {
   "cell_type": "code",
   "execution_count": 40,
   "id": "3b721014",
   "metadata": {},
   "outputs": [
    {
     "name": "stdout",
     "output_type": "stream",
     "text": [
      "[1 2 3]\n"
     ]
    }
   ],
   "source": [
    "# One Dimensional Array\n",
    "one_dim = np.array([1, 2, 3])\n",
    "print(one_dim)"
   ]
  },
  {
   "cell_type": "code",
   "execution_count": 41,
   "id": "b3eb3554",
   "metadata": {},
   "outputs": [
    {
     "name": "stdout",
     "output_type": "stream",
     "text": [
      "[[1 2 3]\n",
      " [4 5 6]]\n"
     ]
    }
   ],
   "source": [
    "# Two Dimensional Array\n",
    "two_dim = np.array([[1, 2, 3], [4, 5, 6]])\n",
    "print(two_dim)"
   ]
  },
  {
   "cell_type": "code",
   "execution_count": 45,
   "id": "8971c883",
   "metadata": {},
   "outputs": [
    {
     "name": "stdout",
     "output_type": "stream",
     "text": [
      "[[[ 1  2  3]\n",
      "  [ 4  5  6]]\n",
      "\n",
      " [[ 7  8  9]\n",
      "  [10 11 12]]]\n"
     ]
    }
   ],
   "source": [
    "# Three Dimensional Array\n",
    "three_dim = np.array([[[1, 2, 3], [4, 5, 6]], [[7, 8, 9], [10, 11, 12]]])\n",
    "print(three_dim)"
   ]
  },
  {
   "cell_type": "code",
   "execution_count": 46,
   "id": "24efedf1",
   "metadata": {},
   "outputs": [
    {
     "name": "stdout",
     "output_type": "stream",
     "text": [
      "3\n"
     ]
    }
   ],
   "source": [
    "# Finding the dimension of a given array\n",
    "print(three_dim.ndim) # this prints the dimension of a given array"
   ]
  },
  {
   "cell_type": "code",
   "execution_count": 47,
   "id": "0d584582",
   "metadata": {},
   "outputs": [
    {
     "name": "stdout",
     "output_type": "stream",
     "text": [
      "[[[[[17]]]]]\n"
     ]
    }
   ],
   "source": [
    "# Given an array any dimension you want\n",
    "new_array = np.array(17, ndmin=5)\n",
    "print(new_array)"
   ]
  },
  {
   "cell_type": "code",
   "execution_count": 48,
   "id": "ae7faf1b",
   "metadata": {},
   "outputs": [],
   "source": [
    "# INDEXING ARRAYS: https://www.youtube.com/watch?v=4n5dXRY2V7w"
   ]
  },
  {
   "cell_type": "code",
   "execution_count": 49,
   "id": "72aabb86",
   "metadata": {},
   "outputs": [
    {
     "name": "stdout",
     "output_type": "stream",
     "text": [
      "1\n"
     ]
    }
   ],
   "source": [
    "array = np.array([1, 2, 3, 4, 5]) # one dimensional array\n",
    "print(array[0])"
   ]
  },
  {
   "cell_type": "code",
   "execution_count": 50,
   "id": "2bce6f35",
   "metadata": {},
   "outputs": [
    {
     "name": "stdout",
     "output_type": "stream",
     "text": [
      "2\n"
     ]
    }
   ],
   "source": [
    "print(array[1]) "
   ]
  },
  {
   "cell_type": "code",
   "execution_count": 52,
   "id": "dbc61386",
   "metadata": {},
   "outputs": [],
   "source": [
    "# Two Dimensional Indexing\n",
    "two_dim = np.array([[1, 2, 3], [4, 5, 6]])"
   ]
  },
  {
   "cell_type": "code",
   "execution_count": 53,
   "id": "a28a9d23",
   "metadata": {},
   "outputs": [
    {
     "name": "stdout",
     "output_type": "stream",
     "text": [
      "[[1 2 3]\n",
      " [4 5 6]]\n"
     ]
    }
   ],
   "source": [
    "print(two_dim)"
   ]
  },
  {
   "cell_type": "code",
   "execution_count": 54,
   "id": "ca009ba8",
   "metadata": {},
   "outputs": [
    {
     "name": "stdout",
     "output_type": "stream",
     "text": [
      "[1 2 3]\n"
     ]
    }
   ],
   "source": [
    "print(two_dim[0])"
   ]
  },
  {
   "cell_type": "code",
   "execution_count": 55,
   "id": "fa177a1b",
   "metadata": {},
   "outputs": [
    {
     "name": "stdout",
     "output_type": "stream",
     "text": [
      "1\n"
     ]
    }
   ],
   "source": [
    "print(two_dim[0,0]) # option 1"
   ]
  },
  {
   "cell_type": "code",
   "execution_count": 56,
   "id": "c2c79d7a",
   "metadata": {},
   "outputs": [
    {
     "name": "stdout",
     "output_type": "stream",
     "text": [
      "1\n"
     ]
    }
   ],
   "source": [
    "print(two_dim[0][0]) # option 2"
   ]
  },
  {
   "cell_type": "code",
   "execution_count": 57,
   "id": "7c79e6d1",
   "metadata": {},
   "outputs": [],
   "source": [
    "# Three Dimensional Indexing\n",
    "three_dim = np.array([[[1, 2, 3], [4, 5, 6]], [[7, 8, 9], [10, 11, 12]]])"
   ]
  },
  {
   "cell_type": "code",
   "execution_count": 58,
   "id": "e8d883e0",
   "metadata": {},
   "outputs": [
    {
     "name": "stdout",
     "output_type": "stream",
     "text": [
      "[[[ 1  2  3]\n",
      "  [ 4  5  6]]\n",
      "\n",
      " [[ 7  8  9]\n",
      "  [10 11 12]]]\n"
     ]
    }
   ],
   "source": [
    "print(three_dim)"
   ]
  },
  {
   "cell_type": "code",
   "execution_count": 59,
   "id": "6225402d",
   "metadata": {},
   "outputs": [
    {
     "ename": "IndentationError",
     "evalue": "unexpected indent (189712950.py, line 3)",
     "output_type": "error",
     "traceback": [
      "\u001b[0;36m  Cell \u001b[0;32mIn[59], line 3\u001b[0;36m\u001b[0m\n\u001b[0;31m    [ 4  5  6]]\u001b[0m\n\u001b[0m    ^\u001b[0m\n\u001b[0;31mIndentationError\u001b[0m\u001b[0;31m:\u001b[0m unexpected indent\n"
     ]
    }
   ],
   "source": [
    "print(three_dim[0, 1, 2])\n",
    "# The first number corresponds to the first dimension and in the first dimension we have [[ 1  2  3]\n",
    "  [ 4  5  6]]\n",
    "    # The second number corresponds to the second dimension, in which the second element is:   [ 4  5  6]"
   ]
  },
  {
   "cell_type": "code",
   "execution_count": 60,
   "id": "76542c8f",
   "metadata": {},
   "outputs": [],
   "source": [
    "# The third number (2) corresponds to the third dimension in which the third element is 6."
   ]
  },
  {
   "cell_type": "code",
   "execution_count": 62,
   "id": "502a209a",
   "metadata": {},
   "outputs": [
    {
     "name": "stdout",
     "output_type": "stream",
     "text": [
      "6\n"
     ]
    }
   ],
   "source": [
    "print(three_dim[0, 1, 2])"
   ]
  },
  {
   "cell_type": "code",
   "execution_count": null,
   "id": "c63abb4f",
   "metadata": {},
   "outputs": [],
   "source": []
  }
 ],
 "metadata": {
  "kernelspec": {
   "display_name": "Python 3 (ipykernel)",
   "language": "python",
   "name": "python3"
  },
  "language_info": {
   "codemirror_mode": {
    "name": "ipython",
    "version": 3
   },
   "file_extension": ".py",
   "mimetype": "text/x-python",
   "name": "python",
   "nbconvert_exporter": "python",
   "pygments_lexer": "ipython3",
   "version": "3.11.4"
  }
 },
 "nbformat": 4,
 "nbformat_minor": 5
}
