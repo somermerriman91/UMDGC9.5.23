{
 "cells": [
  {
   "cell_type": "code",
   "execution_count": 1,
   "id": "45bd415a-84d8-4714-a92a-3cb6d4457f9b",
   "metadata": {},
   "outputs": [
    {
     "data": {
      "text/plain": [
       "4"
      ]
     },
     "execution_count": 1,
     "metadata": {},
     "output_type": "execute_result"
    }
   ],
   "source": [
    "2+2"
   ]
  },
  {
   "cell_type": "code",
   "execution_count": 3,
   "id": "9021fd4b",
   "metadata": {},
   "outputs": [
    {
     "name": "stdout",
     "output_type": "stream",
     "text": [
      "this is outside the function\n"
     ]
    }
   ],
   "source": [
    "# a collection of instructions\n",
    "# a collection of code\n",
    "def function1():\n",
    "    print(\"ahhh\")\n",
    "    print(\"ahhh 2\")\n",
    "print(\"this is outside the function\")"
   ]
  },
  {
   "cell_type": "code",
   "execution_count": 4,
   "id": "e079644e",
   "metadata": {},
   "outputs": [
    {
     "name": "stdout",
     "output_type": "stream",
     "text": [
      "ahhh\n",
      "ahhh 2\n"
     ]
    }
   ],
   "source": [
    "function1()"
   ]
  },
  {
   "cell_type": "code",
   "execution_count": 6,
   "id": "cc680070",
   "metadata": {},
   "outputs": [],
   "source": [
    "# a mapping\n",
    "# input or an argument\n",
    "def function2(x):\n",
    "    return 2*x\n"
   ]
  },
  {
   "cell_type": "code",
   "execution_count": 7,
   "id": "9d3c01de",
   "metadata": {},
   "outputs": [],
   "source": [
    "a = function2(3)\n",
    "# return value or output"
   ]
  },
  {
   "cell_type": "code",
   "execution_count": 8,
   "id": "3052fd97",
   "metadata": {},
   "outputs": [
    {
     "name": "stdout",
     "output_type": "stream",
     "text": [
      "6\n"
     ]
    }
   ],
   "source": [
    "print(a)"
   ]
  },
  {
   "cell_type": "code",
   "execution_count": 9,
   "id": "11f4752b",
   "metadata": {},
   "outputs": [],
   "source": [
    "b = function2(4)"
   ]
  },
  {
   "cell_type": "code",
   "execution_count": 10,
   "id": "b52dd27b",
   "metadata": {},
   "outputs": [
    {
     "name": "stdout",
     "output_type": "stream",
     "text": [
      "8\n"
     ]
    }
   ],
   "source": [
    "print(b)"
   ]
  },
  {
   "cell_type": "code",
   "execution_count": 11,
   "id": "49ed8648",
   "metadata": {},
   "outputs": [
    {
     "ename": "TypeError",
     "evalue": "function2() missing 1 required positional argument: 'x'",
     "output_type": "error",
     "traceback": [
      "\u001b[0;31m---------------------------------------------------------------------------\u001b[0m",
      "\u001b[0;31mTypeError\u001b[0m                                 Traceback (most recent call last)",
      "Cell \u001b[0;32mIn[11], line 2\u001b[0m\n\u001b[1;32m      1\u001b[0m \u001b[38;5;66;03m# if no argument is specified\u001b[39;00m\n\u001b[0;32m----> 2\u001b[0m c \u001b[38;5;241m=\u001b[39m function2()\n",
      "\u001b[0;31mTypeError\u001b[0m: function2() missing 1 required positional argument: 'x'"
     ]
    }
   ],
   "source": [
    "# if no argument is specified\n",
    "c = function2()"
   ]
  },
  {
   "cell_type": "code",
   "execution_count": 13,
   "id": "19aad73e",
   "metadata": {},
   "outputs": [],
   "source": [
    "def function3(x,y):\n",
    "    return x + y"
   ]
  },
  {
   "cell_type": "code",
   "execution_count": 14,
   "id": "c3f98289",
   "metadata": {},
   "outputs": [],
   "source": [
    "e = function3(1,2)"
   ]
  },
  {
   "cell_type": "code",
   "execution_count": 15,
   "id": "33cbe35a",
   "metadata": {},
   "outputs": [
    {
     "name": "stdout",
     "output_type": "stream",
     "text": [
      "3\n"
     ]
    }
   ],
   "source": [
    "print(e)"
   ]
  },
  {
   "cell_type": "code",
   "execution_count": 19,
   "id": "1a185ea9",
   "metadata": {},
   "outputs": [],
   "source": [
    "def function4(x):\n",
    "    print(x)\n",
    "    print(\"still in this function\")\n",
    "    return 3*x"
   ]
  },
  {
   "cell_type": "code",
   "execution_count": 20,
   "id": "c45b1697",
   "metadata": {},
   "outputs": [
    {
     "name": "stdout",
     "output_type": "stream",
     "text": [
      "4\n",
      "still in this function\n"
     ]
    }
   ],
   "source": [
    "f = function4(4)"
   ]
  },
  {
   "cell_type": "code",
   "execution_count": 21,
   "id": "203f5a4d",
   "metadata": {},
   "outputs": [
    {
     "name": "stdout",
     "output_type": "stream",
     "text": [
      "12\n"
     ]
    }
   ],
   "source": [
    "print(f)"
   ]
  },
  {
   "cell_type": "code",
   "execution_count": 22,
   "id": "25111b9d",
   "metadata": {},
   "outputs": [],
   "source": [
    "def function5(some_argument):\n",
    "    print(some_argument)\n",
    "    print(\"weee\")"
   ]
  },
  {
   "cell_type": "code",
   "execution_count": 23,
   "id": "7850adfe",
   "metadata": {},
   "outputs": [
    {
     "name": "stdout",
     "output_type": "stream",
     "text": [
      "4\n",
      "weee\n"
     ]
    }
   ],
   "source": [
    "f = function5(4)\n",
    "# no return created, so the output is:"
   ]
  },
  {
   "cell_type": "code",
   "execution_count": 24,
   "id": "6a0417aa",
   "metadata": {},
   "outputs": [
    {
     "ename": "SyntaxError",
     "evalue": "unmatched ')' (529795463.py, line 2)",
     "output_type": "error",
     "traceback": [
      "\u001b[0;36m  Cell \u001b[0;32mIn[24], line 2\u001b[0;36m\u001b[0m\n\u001b[0;31m    bmi = weight_kg / height_m ** 2)\u001b[0m\n\u001b[0m                                   ^\u001b[0m\n\u001b[0;31mSyntaxError\u001b[0m\u001b[0;31m:\u001b[0m unmatched ')'\n"
     ]
    }
   ],
   "source": [
    "def bmi_calculator(name, height_m, weight_kg):\n",
    "    bmi = weight_kg / height_m ** 2)\n",
    "    print(\"bmi: \")\n",
    "    print(bmi)\n",
    "    if bmi < 25:\n",
    "        return name + \"not overweight\"\n",
    "        # strings concatenated\n",
    "    else: \n",
    "        return name + \"is overweight\""
   ]
  },
  {
   "cell_type": "code",
   "execution_count": 25,
   "id": "114dc24e",
   "metadata": {},
   "outputs": [
    {
     "name": "stdout",
     "output_type": "stream",
     "text": [
      "Requirement already satisfied: numpy in /Users/somermerriman/anaconda3/lib/python3.11/site-packages (1.24.3)\n",
      "Note: you may need to restart the kernel to use updated packages.\n"
     ]
    }
   ],
   "source": [
    "pip install numpy"
   ]
  },
  {
   "cell_type": "code",
   "execution_count": 26,
   "id": "4fbb29cf",
   "metadata": {},
   "outputs": [],
   "source": [
    "import numpy as np\n"
   ]
  },
  {
   "cell_type": "code",
   "execution_count": null,
   "id": "d33a6a44",
   "metadata": {},
   "outputs": [],
   "source": []
  }
 ],
 "metadata": {
  "kernelspec": {
   "display_name": "Python 3 (ipykernel)",
   "language": "python",
   "name": "python3"
  },
  "language_info": {
   "codemirror_mode": {
    "name": "ipython",
    "version": 3
   },
   "file_extension": ".py",
   "mimetype": "text/x-python",
   "name": "python",
   "nbconvert_exporter": "python",
   "pygments_lexer": "ipython3",
   "version": "3.11.4"
  }
 },
 "nbformat": 4,
 "nbformat_minor": 5
}
