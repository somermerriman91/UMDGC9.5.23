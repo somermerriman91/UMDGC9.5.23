{
 "cells": [
  {
   "cell_type": "code",
   "execution_count": 1,
   "id": "6ba3de69-4b10-40ca-9d95-4a90a5a059f1",
   "metadata": {},
   "outputs": [],
   "source": [
    "#FREECODE CAMP - DICTIONARIES, TUPLES"
   ]
  },
  {
   "cell_type": "code",
   "execution_count": 2,
   "id": "9eab7a14-4388-48bc-9047-7f61fcd0ef99",
   "metadata": {},
   "outputs": [
    {
     "name": "stdout",
     "output_type": "stream",
     "text": [
      "{'csev': 2, 'cwen': 2, 'zqian': 1}\n"
     ]
    }
   ],
   "source": [
    "counts = dict()\n",
    "names = ['csev', 'cwen', 'csev', 'zqian', 'cwen']\n",
    "for name in names :\n",
    "    if name not in counts: \n",
    "        counts[name] = 1\n",
    "    else :\n",
    "        counts[name] = counts[name] + 1\n",
    "print(counts)"
   ]
  },
  {
   "cell_type": "code",
   "execution_count": 3,
   "id": "8e2dd3dc-9e99-4777-a7a7-d8376ae54c25",
   "metadata": {},
   "outputs": [],
   "source": [
    "# method .get() essentially consolidates this ^^^^^\n",
    "x = counts.get(name, 0)"
   ]
  },
  {
   "cell_type": "code",
   "execution_count": 5,
   "id": "90014260-4bdb-4f60-8a05-fe1caa94cfcc",
   "metadata": {},
   "outputs": [
    {
     "name": "stdout",
     "output_type": "stream",
     "text": [
      "{'csev': 4, 'cwen': 4, 'zqian': 2}\n"
     ]
    }
   ],
   "source": [
    "for name in names :\n",
    "    counts[name] = counts.get(name, 0) + 1\n",
    "print(counts)"
   ]
  },
  {
   "cell_type": "code",
   "execution_count": 6,
   "id": "85bc4a1d-c16a-4e87-95d5-a835b705f531",
   "metadata": {},
   "outputs": [
    {
     "name": "stdout",
     "output_type": "stream",
     "text": [
      "Enter a line of text:\n"
     ]
    },
    {
     "name": "stdin",
     "output_type": "stream",
     "text": [
      "  the clown ran after the car and the car ran into the tent and the tent fell down on the clown and the car\n"
     ]
    },
    {
     "name": "stdout",
     "output_type": "stream",
     "text": [
      "Words: ['the', 'clown', 'ran', 'after', 'the', 'car', 'and', 'the', 'car', 'ran', 'into', 'the', 'tent', 'and', 'the', 'tent', 'fell', 'down', 'on', 'the', 'clown', 'and', 'the', 'car']\n",
      "Counting...\n",
      "Counts {'the': 7, 'clown': 2, 'ran': 2, 'after': 1, 'car': 3, 'and': 3, 'into': 1, 'tent': 2, 'fell': 1, 'down': 1, 'on': 1}\n"
     ]
    }
   ],
   "source": [
    "# Dictionaries and Loops\n",
    "# Loops that BUILD a dictionary\n",
    "counts = dict()\n",
    "print('Enter a line of text:')\n",
    "line = input('')\n",
    "\n",
    "words = line.split()\n",
    "# The general pattern to count the words in a line of text is to split the line into words\n",
    "# Then, loop through the words and use a dictionary to track the count of each word\n",
    "print('Words:', words)\n",
    "print(\"Counting...\")\n",
    "for word in words: \n",
    "    counts[word] = counts.get(word, 0) + 1\n",
    "print('Counts', counts)"
   ]
  },
  {
   "cell_type": "code",
   "execution_count": 7,
   "id": "3be78f80-4f2b-46e2-9b46-72db5ab876c2",
   "metadata": {},
   "outputs": [
    {
     "name": "stdout",
     "output_type": "stream",
     "text": [
      "chuck 1\n",
      "fred 42\n",
      "jan 100\n"
     ]
    }
   ],
   "source": [
    "counts = { 'chuck' : 1, 'fred' : 42, 'jan' : 100}\n",
    "for key in counts:\n",
    "    print(key, counts[key])"
   ]
  },
  {
   "cell_type": "code",
   "execution_count": 8,
   "id": "c9235745-bd20-4f3a-9267-0774e7d2f506",
   "metadata": {},
   "outputs": [
    {
     "name": "stdout",
     "output_type": "stream",
     "text": [
      "['chuck', 'fred', 'jan']\n"
     ]
    }
   ],
   "source": [
    "# Retrieving lists of keys and values\n",
    "print(list(counts))\n"
   ]
  },
  {
   "cell_type": "code",
   "execution_count": 10,
   "id": "534e9bb5-01ba-4e7d-8e32-3764c797e37b",
   "metadata": {},
   "outputs": [
    {
     "name": "stdout",
     "output_type": "stream",
     "text": [
      "dict_keys(['chuck', 'fred', 'jan'])\n"
     ]
    }
   ],
   "source": [
    "print(counts.keys())"
   ]
  },
  {
   "cell_type": "code",
   "execution_count": 11,
   "id": "29bf5ffa-cd12-4be5-b353-510756d24e18",
   "metadata": {},
   "outputs": [
    {
     "name": "stdout",
     "output_type": "stream",
     "text": [
      "dict_values([1, 42, 100])\n"
     ]
    }
   ],
   "source": [
    "print(counts.values())"
   ]
  },
  {
   "cell_type": "code",
   "execution_count": 13,
   "id": "a8650654-31f0-4e09-8637-12287a9e9999",
   "metadata": {},
   "outputs": [
    {
     "name": "stdout",
     "output_type": "stream",
     "text": [
      "dict_items([('chuck', 1), ('fred', 42), ('jan', 100)])\n"
     ]
    }
   ],
   "source": [
    "print(counts.items())"
   ]
  },
  {
   "cell_type": "code",
   "execution_count": 16,
   "id": "96604e27-836f-4e2c-b48c-6a31bdd5eee1",
   "metadata": {},
   "outputs": [
    {
     "name": "stdout",
     "output_type": "stream",
     "text": [
      "chuck 1\n",
      "fred 42\n",
      "jan 100\n"
     ]
    }
   ],
   "source": [
    "for aaa,bbb in counts.items() :\n",
    "    print(aaa, bbb)"
   ]
  },
  {
   "cell_type": "code",
   "execution_count": null,
   "id": "ddc38139-43ab-41f5-8a53-be46be878ddd",
   "metadata": {},
   "outputs": [],
   "source": []
  }
 ],
 "metadata": {
  "kernelspec": {
   "display_name": "Python 3 (ipykernel)",
   "language": "python",
   "name": "python3"
  },
  "language_info": {
   "codemirror_mode": {
    "name": "ipython",
    "version": 3
   },
   "file_extension": ".py",
   "mimetype": "text/x-python",
   "name": "python",
   "nbconvert_exporter": "python",
   "pygments_lexer": "ipython3",
   "version": "3.11.4"
  }
 },
 "nbformat": 4,
 "nbformat_minor": 5
}
