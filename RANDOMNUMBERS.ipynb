{
 "cells": [
  {
   "cell_type": "code",
   "execution_count": 1,
   "id": "10bd760d-4bed-4980-b375-854f316acd24",
   "metadata": {},
   "outputs": [],
   "source": [
    "import random"
   ]
  },
  {
   "cell_type": "code",
   "execution_count": 2,
   "id": "59b1dbb9-4492-4463-b586-f4228d0ee590",
   "metadata": {},
   "outputs": [
    {
     "name": "stdout",
     "output_type": "stream",
     "text": [
      "['BPF', 'LOG4', 'NV_MAGICCONST', 'RECIP_BPF', 'Random', 'SG_MAGICCONST', 'SystemRandom', 'TWOPI', '_ONE', '_Sequence', '_Set', '__all__', '__builtins__', '__cached__', '__doc__', '__file__', '__loader__', '__name__', '__package__', '__spec__', '_accumulate', '_acos', '_bisect', '_ceil', '_cos', '_e', '_exp', '_floor', '_index', '_inst', '_isfinite', '_log', '_os', '_pi', '_random', '_repeat', '_sha512', '_sin', '_sqrt', '_test', '_test_generator', '_urandom', '_warn', 'betavariate', 'choice', 'choices', 'expovariate', 'gammavariate', 'gauss', 'getrandbits', 'getstate', 'lognormvariate', 'normalvariate', 'paretovariate', 'randbytes', 'randint', 'random', 'randrange', 'sample', 'seed', 'setstate', 'shuffle', 'triangular', 'uniform', 'vonmisesvariate', 'weibullvariate']\n"
     ]
    }
   ],
   "source": [
    "print(dir(random))"
   ]
  },
  {
   "cell_type": "code",
   "execution_count": 3,
   "id": "0c6bc54d-5713-4ee2-86f2-3b99eb5c0c99",
   "metadata": {},
   "outputs": [
    {
     "name": "stdout",
     "output_type": "stream",
     "text": [
      "Help on built-in function random:\n",
      "\n",
      "random() method of random.Random instance\n",
      "    random() -> x in the interval [0, 1).\n",
      "\n",
      "None\n"
     ]
    }
   ],
   "source": [
    "print(help(random.random))"
   ]
  },
  {
   "cell_type": "code",
   "execution_count": 4,
   "id": "4696a03e-6b09-4049-bdc3-d85b44a60098",
   "metadata": {},
   "outputs": [],
   "source": [
    "# square bracket means it can return 0, open bracket means it will never return 1"
   ]
  },
  {
   "cell_type": "code",
   "execution_count": 6,
   "id": "444b08a0-a99f-4569-b1ee-e79b7e0beb54",
   "metadata": {},
   "outputs": [
    {
     "name": "stdout",
     "output_type": "stream",
     "text": [
      "0.9452818142402244\n",
      "0.4527341940317654\n",
      "0.914805456168848\n",
      "0.7148632852226358\n",
      "0.9879817164552055\n",
      "0.7214844409884088\n",
      "0.48338668630958337\n",
      "0.2920204632484428\n",
      "0.9945747544351506\n",
      "0.9672118219646255\n"
     ]
    }
   ],
   "source": [
    "for i in range (10):\n",
    "    print(random.random())"
   ]
  },
  {
   "cell_type": "code",
   "execution_count": 7,
   "id": "7c0eb554-48e8-4599-8b44-126f0ba3f57f",
   "metadata": {},
   "outputs": [],
   "source": [
    "# represents uniform distribution"
   ]
  },
  {
   "cell_type": "code",
   "execution_count": 8,
   "id": "8b321358-0646-4147-959a-8ca836516d7b",
   "metadata": {},
   "outputs": [],
   "source": [
    "# generate random numbers from interval [3, 7)"
   ]
  },
  {
   "cell_type": "code",
   "execution_count": 9,
   "id": "e816c45e-1da0-41ca-b73b-eac365ca77f7",
   "metadata": {},
   "outputs": [],
   "source": [
    "def my_random():\n",
    "    # Random, scale, shift, return... \n",
    "    return 4*random.random() + 3"
   ]
  },
  {
   "cell_type": "code",
   "execution_count": 10,
   "id": "176fc509-0c19-4897-b5a5-85bd7c220cfb",
   "metadata": {},
   "outputs": [
    {
     "name": "stdout",
     "output_type": "stream",
     "text": [
      "4.11850924163243\n",
      "3.5333475526016773\n",
      "3.3592227746845396\n",
      "6.9568554734820705\n",
      "5.951356041599809\n",
      "6.410276765844465\n",
      "4.446441376613054\n",
      "6.641254446828643\n",
      "3.934859674109204\n",
      "3.2498770005231155\n"
     ]
    }
   ],
   "source": [
    "for i in range(10):\n",
    "    print(my_random())"
   ]
  },
  {
   "cell_type": "code",
   "execution_count": 11,
   "id": "ba3461e0-8102-4533-8958-36a8f226e6ee",
   "metadata": {},
   "outputs": [],
   "source": [
    "# easier way to generate --> use UNIFORM function\n",
    "# the random() function can be used to build customized random number generators"
   ]
  },
  {
   "cell_type": "code",
   "execution_count": 12,
   "id": "356e77ba-5543-4269-b625-8b51962f6150",
   "metadata": {},
   "outputs": [
    {
     "name": "stdout",
     "output_type": "stream",
     "text": [
      "3.3492961659417073\n",
      "5.653555077671925\n",
      "5.28477902618728\n",
      "5.98046044712005\n",
      "5.073119158586218\n",
      "3.520813306509709\n",
      "4.874441259549815\n",
      "5.144280782465971\n",
      "5.165224753535235\n",
      "4.404173332266087\n"
     ]
    }
   ],
   "source": [
    "for i in range(10):\n",
    "    print(random.uniform(3, 7))"
   ]
  },
  {
   "cell_type": "code",
   "execution_count": 13,
   "id": "886ccc85-f68a-43f6-913b-7e4f6d0a05c4",
   "metadata": {},
   "outputs": [],
   "source": [
    "# random() and uniform() are both UNIFORM DISTRIBUTIONS"
   ]
  },
  {
   "cell_type": "code",
   "execution_count": 15,
   "id": "44090e6f-30b4-4e10-b247-e089e2878ecd",
   "metadata": {},
   "outputs": [],
   "source": [
    "# Normal distribution - described by mean and standard deviation\n",
    "# normalvariate(mean, SD)"
   ]
  },
  {
   "cell_type": "code",
   "execution_count": 16,
   "id": "1819e525-6935-4a7e-88bb-5979a74c6e13",
   "metadata": {},
   "outputs": [
    {
     "name": "stdout",
     "output_type": "stream",
     "text": [
      "-1.3180145497638356\n",
      "0.734692104186954\n",
      "0.14172092087118554\n",
      "-0.8941666333972798\n",
      "0.2826523577948967\n",
      "0.9090778861638394\n",
      "1.528438717749568\n",
      "-0.04761050025801347\n",
      "1.3480574192330648\n",
      "0.47394896249335333\n",
      "-0.45806905521281926\n",
      "0.04346373350551915\n",
      "-1.1831072240238751\n",
      "-0.8790402783911939\n",
      "-0.45565652968483916\n",
      "0.5020043619446902\n",
      "-0.42487132907621483\n",
      "0.07252867446985198\n",
      "-0.34936483063519347\n",
      "-0.6309372516150895\n"
     ]
    }
   ],
   "source": [
    "for i in range(20):\n",
    "    print(random.normalvariate(0, 1))"
   ]
  },
  {
   "cell_type": "code",
   "execution_count": 17,
   "id": "b7b61527-a076-4cfb-83cd-78d521065bba",
   "metadata": {},
   "outputs": [],
   "source": [
    "# Discrete Probability Distributions\n",
    "# randint(min, max) - \"Random Integer\""
   ]
  },
  {
   "cell_type": "code",
   "execution_count": 18,
   "id": "0f07608d-2051-4d7f-8517-4bccf59ea74c",
   "metadata": {},
   "outputs": [
    {
     "name": "stdout",
     "output_type": "stream",
     "text": [
      "scissors\n",
      "rock\n",
      "paper\n",
      "rock\n",
      "rock\n",
      "rock\n",
      "rock\n",
      "paper\n",
      "paper\n",
      "rock\n",
      "paper\n",
      "scissors\n",
      "scissors\n",
      "paper\n",
      "paper\n",
      "rock\n",
      "paper\n",
      "paper\n",
      "scissors\n",
      "paper\n"
     ]
    }
   ],
   "source": [
    "# Random element from a list\n",
    "# random.choice\n",
    "outcomes = ['rock', 'paper', 'scissors']\n",
    "\n",
    "for i in range(20):\n",
    "    print(random.choice(outcomes))"
   ]
  },
  {
   "cell_type": "code",
   "execution_count": null,
   "id": "85fc26f5-365d-45d1-a1e5-2b2daaccd206",
   "metadata": {},
   "outputs": [],
   "source": []
  }
 ],
 "metadata": {
  "kernelspec": {
   "display_name": "Python 3 (ipykernel)",
   "language": "python",
   "name": "python3"
  },
  "language_info": {
   "codemirror_mode": {
    "name": "ipython",
    "version": 3
   },
   "file_extension": ".py",
   "mimetype": "text/x-python",
   "name": "python",
   "nbconvert_exporter": "python",
   "pygments_lexer": "ipython3",
   "version": "3.11.4"
  }
 },
 "nbformat": 4,
 "nbformat_minor": 5
}
